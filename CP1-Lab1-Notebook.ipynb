{
 "cells": [
  {
   "cell_type": "markdown",
   "id": "f24c7b4f-880e-4e9a-a2d8-f4c8f72f5d38",
   "metadata": {},
   "source": [
    "# Lab 1 - Determination of Cylinder Density with Emphasis in Uncertainty Propagation\n",
    "\n",
    "Place Holder for Introductory Text\n",
    "\n",
    "## Lab Notebook Environment\n",
    "\n",
    "For College/University Physics, we will be using [Python](https://wiki.python.org/moin/BeginnersGuide)-based Jupyter Notebooks as our lab notebooks.\n",
    "\n",
    "We have designed these notebooks to be a form of *gradual release* in case you are unfamiliar with Python or coding in general. As an introduction, Python is an *interpretter*. All this means is that Python takes commands you give it which it then interprets into computer language. Often times, one begins coding with a simple program called `Hello World`. Let's implement this is the *code* cell below. We have already supplied the code, you simply need to execute it. To do this in a Jupyter Notebook, you can select the cell and click the \"Play/Run\" button at the top of the cell/coding environment or you can select the cell and press `Shift + Enter`.\n",
    "\n",
    "See if you can execute the code below now."
   ]
  },
  {
   "cell_type": "code",
   "execution_count": null,
   "id": "3d9046f3-c48b-4163-b316-d9af03d6a33b",
   "metadata": {},
   "outputs": [],
   "source": [
    "print(\"Hello World!\")"
   ]
  },
  {
   "cell_type": "markdown",
   "id": "5a5c9baf-3de6-4543-a532-29f01c83dd26",
   "metadata": {},
   "source": [
    "If the execution was successful, you should see `Hello World!` printed below the code cell.\n",
    "\n",
    "Congratulations! You can run your first Intro Physics program in Python!\n",
    "\n",
    "Let's unpack what we did in the cell above.\n",
    "\n",
    "1. We called the function [`print`](https://docs.python.org/3/library/functions.html#print).\n",
    "1. We passed in (using parentheses) the string `\"Hello World!\"` to be printed.\n",
    "\n",
    "## Notebook Imports\n",
    "\n",
    "Before we continue, we are going to [import](https://docs.python.org/3/reference/import.html) some additional code to use. Python is agnostic to what is available until you explicitly reveal or import it. Specifically, we need to import two packages that are of great benefit when doing scientific computing.\n",
    "\n",
    "1. [Numpy](https://numpy.org/doc/stable/user/absolute_beginners.html): Array manipulations and mathematical functions\n",
    "2. [Astropy Units](https://docs.astropy.org/en/stable/units/index.html): Adding physical units to variables\n",
    "\n",
    "Execute the cell below to import these two packages."
   ]
  },
  {
   "cell_type": "code",
   "execution_count": null,
   "id": "1fa31ead-b7ee-49e7-b678-86d39ff10dbd",
   "metadata": {},
   "outputs": [],
   "source": [
    "# 3rd Party Imports\n",
    "import numpy as np\n",
    "from astropy import units as u"
   ]
  },
  {
   "cell_type": "markdown",
   "id": "3c360b33-961d-4848-b7d6-a16671a559c0",
   "metadata": {},
   "source": [
    "The first of these two statements imported Numpy and renamed it to `np`. The second statement loaded the `units` subpackage from Astropy and renamed it to `u`. Now, if we want to utilize either of those two packages, we can do so with `np.` and `u.`, respectively.\n",
    "\n",
    "You might have also noticed the first line `# 3rd Party Imports` did nothing. This is because the `#` character in Python is known as a comment character. That is to say, anything after `#` on a line can be read by the user but is skipped by the interpreter (*i.e.*, it is a code comment).\n",
    "\n",
    "Check out the example code below for how to use these packages."
   ]
  },
  {
   "cell_type": "code",
   "execution_count": null,
   "id": "7758193d-b9f6-409d-be9b-f723882d77e7",
   "metadata": {},
   "outputs": [],
   "source": [
    "# Print Pi\n",
    "print(np.pi)"
   ]
  },
  {
   "cell_type": "code",
   "execution_count": null,
   "id": "719a3ac8-7036-4bf4-b62c-26ba6dc55917",
   "metadata": {},
   "outputs": [],
   "source": [
    "print(24.5 * u.cm)"
   ]
  },
  {
   "cell_type": "markdown",
   "id": "5ba95d6e-0a75-4de3-ae21-f956d9684c6c",
   "metadata": {},
   "source": [
    "## Notebook Set Up\n",
    "\n",
    "This just some set up code that will help with the lab. You should not need to modify this cell. Instead, just execute the function definitions below.\n",
    "\n",
    "### Functions"
   ]
  },
  {
   "cell_type": "code",
   "execution_count": null,
   "id": "ba511fc6-7f25-4f1d-81e0-e943145854bf",
   "metadata": {},
   "outputs": [],
   "source": [
    "# Plus or Minus Unicode\n",
    "PM_UNI = '\\u00B1'\n",
    "\n",
    "# Lab Format Definition\n",
    "def lab_format(meas: u.Quantity, unc: u.Quantity, n_decimals: int = 2):\n",
    "    \n",
    "    # Set the Format Specifier\n",
    "    if n_decimals >= 0:\n",
    "        fmt = '{:.' + str(n_decimals) + 'f}'\n",
    "    else:\n",
    "        fmt = '{:.0f}'\n",
    "    \n",
    "    # Convert the Uncertainty to Measurment Unit\n",
    "    unc <<= meas.unit\n",
    "    \n",
    "    # Get Strings\n",
    "    meas_str = fmt.format(np.round(meas.value, n_decimals))\n",
    "    unc_str  = fmt.format(np.round(unc, n_decimals))\n",
    "    \n",
    "    # Return the Lab Format String\n",
    "    return meas_str + f' {PM_UNI} ' + unc_str"
   ]
  },
  {
   "cell_type": "markdown",
   "id": "7bb91807-f24c-4cec-b88b-2c55654a31c0",
   "metadata": {},
   "source": [
    "## Lab Procedure\n",
    "\n",
    "### Number 1\n",
    "\n",
    "Using the equipment at your table, measure the **length** of the tabletop. Consult with your partner, and store your answer below to the variable `table_len`."
   ]
  },
  {
   "cell_type": "code",
   "execution_count": null,
   "id": "ba9e7692-de45-4d72-9da0-eb889166b74f",
   "metadata": {},
   "outputs": [],
   "source": [
    "# Store Table Length\n",
    "table_len = 0 * u.cm  # Change the zero to your measured value\n",
    "\n",
    "# Print the Table Length\n",
    "print(table_len)"
   ]
  },
  {
   "cell_type": "markdown",
   "id": "c283e38e-085b-4147-b35a-a3106534ec00",
   "metadata": {},
   "source": [
    "If everything went according to plan, you should see your table length printed below the code cell.\n",
    "\n",
    "Let's unpack a few things going on in this cell. First, we are taking our numerical value and multiplying the centimeter unit to the value turning it into a physical quantity. This may not seem important, but the power of this will come in handy later.\n",
    "\n",
    "You can attach units to values in one of two ways: using the multiplication (`*`) method or using the attach operator (`<<`). The first method *always* adds the unit to the quantity. That is, if your variable was in cm, the multiplying by another unit of cm would give a value in cm$^2$. The second operator does two different things. First, if there are no units on the quantity, it will attach the unit. However, if the quantity already has units, it will *convert* the quantity to the new unit.\n",
    "\n",
    "The second thing to note is that we are taking the table length value and storing it in a [*variable*](https://python.land/introduction-to-python/variable#What_is_a_Python_variable) called `table_len` which saves the value for later use (as evidensed by calling the `print` function on the variable)."
   ]
  },
  {
   "cell_type": "markdown",
   "id": "9ed5910f-3f7d-478b-97e9-a02037d81eec",
   "metadata": {},
   "source": [
    "### Number 2\n",
    "\n",
    "After the instructor discusses proper measurement and error techniques, carefully measure and record both the length and width of your tabletop below in the correct laboratory format. Then wait for further instructions. Perform any calculations on scrap paper."
   ]
  },
  {
   "cell_type": "code",
   "execution_count": null,
   "id": "610eaea7-e90c-4c9d-8275-54fdeea9cf94",
   "metadata": {},
   "outputs": [],
   "source": [
    "# Record the Length\n",
    "table_len     = 0 * u.cm  # Change the one to your measured value\n",
    "table_len_unc = 0 * u.cm  # Change the one to your calculated value\n",
    "table_str     = lab_format(table_len, table_len_unc)\n",
    "print('Table Length: ' + table_str)\n",
    "\n",
    "# Record the Width\n",
    "table_width     = 0 * u.cm  # Change the one to your measured value\n",
    "table_width_unc = 0 * u.cm  # Change the one to your calculated value\n",
    "table_str     = lab_format(table_width, table_width_unc)\n",
    "print('Table Width:  ' + table_str)"
   ]
  },
  {
   "cell_type": "markdown",
   "id": "7b862320-31df-4772-8d24-d4d6fafe04e9",
   "metadata": {},
   "source": [
    "No doubt, you measured the length and width of your table then calculated the uncertainty on each by multiplying by the relative error in decimal form and then adding the reading error using something like your calculator. While this is absolutely valid, it can get *extremely* tedious when done routinely. Fortunately, routine tasks are precisely where computers excel. To help us automate this, complete the function below by changing the `pass` statements to valid code."
   ]
  },
  {
   "cell_type": "code",
   "execution_count": null,
   "id": "8157a842-6311-4450-9468-085efce09e3a",
   "metadata": {},
   "outputs": [],
   "source": [
    "# Define the Uncertainty Function\n",
    "def uncert(meas: u.Quantity, cal_err: u.Quantity=None, read_err: u.Quantity=None, adc_err: u.Quantity=None):\n",
    "    \n",
    "    # Initialize the Uncertainty\n",
    "    unc = 0 * meas.unit\n",
    "    \n",
    "    # Add Calibration Error if Provided\n",
    "    if cal_err is not None:\n",
    "        pass\n",
    "    \n",
    "    # Add Reading Error if Provided\n",
    "    if read_err is not None:\n",
    "        pass\n",
    "    \n",
    "    # Add ADC Error if Provided\n",
    "    if adc_err is not None:\n",
    "        pass\n",
    "    \n",
    "    # Return the Uncertainty\n",
    "    return unc"
   ]
  },
  {
   "cell_type": "markdown",
   "id": "c9107c90-d468-464d-bf73-350b96d45285",
   "metadata": {},
   "source": [
    "To see if your function works, run the cell below where I have taken the liberty to define a few variables for you."
   ]
  },
  {
   "cell_type": "code",
   "execution_count": null,
   "id": "7b40dfc4-4b04-490e-970f-7d926b572aef",
   "metadata": {},
   "outputs": [],
   "source": [
    "# Uncertainties\n",
    "METER_STICK_CAL_ERR     = 0.20 * u.percent\n",
    "meter_stick_reading_err = 0.5  * u.mm       # Change this value if you used a different reading error\n",
    "\n",
    "# Calculate the Length and Width Uncertainties\n",
    "table_len_unc = uncert(\n",
    "    table_len,\n",
    "    cal_err=METER_STICK_CAL_ERR,\n",
    "    read_err=meter_stick_reading_err\n",
    ")\n",
    "table_width_unc = uncert(\n",
    "    table_width,\n",
    "    cal_err=METER_STICK_CAL_ERR,\n",
    "    read_err=meter_stick_reading_err\n",
    ")\n",
    "\n",
    "# Print\n",
    "print('Table Length: ' + lab_format(table_len, table_len_unc))\n",
    "print('Table Width:  ' + lab_format(table_width, table_width_unc))"
   ]
  },
  {
   "cell_type": "markdown",
   "id": "43d1b2c3-e233-4755-a72e-a22197f04073",
   "metadata": {},
   "source": [
    "### Number 3\n",
    "\n",
    "Using Python, calculate the area of your tabletop with error, and print the result below. Then wait to proceed."
   ]
  },
  {
   "cell_type": "code",
   "execution_count": null,
   "id": "ecd98f83-d56e-40fa-a4c9-58b544a85650",
   "metadata": {},
   "outputs": [],
   "source": [
    "# Calculate the Area\n",
    "table_area = 0*u.dimensionless_unscaled     # Change the \"0*u.dimensionless_unscaled\" to your calculation\n",
    "table_area_unc = 0*u.dimensionless_unscaled # Change the \"0*u.dimensionless_unscaled\" to your calculation(s)\n",
    "\n",
    "# Print\n",
    "print('Table Area: ' + lab_format(table_area, table_area_unc, -1))"
   ]
  },
  {
   "cell_type": "markdown",
   "id": "6873dff4-9e83-4976-a2fc-63e8b733254b",
   "metadata": {},
   "source": [
    "### Number 4\n",
    "\n",
    "Warm-up is over. We now wish to find the volume $V$ of the hollow cylinder on your table. This will require three individual\n",
    "measurements, followed by several calculations. Start by measuring the cylinder’s height $h$, outer diameter $D_o$, and inner\n",
    "diameter $D_i$ as accurately as possible using the half-meter stick. Record your answers below and continue."
   ]
  },
  {
   "cell_type": "code",
   "execution_count": null,
   "id": "a81cbf62-9e18-4731-a0fe-8190774f829d",
   "metadata": {},
   "outputs": [],
   "source": [
    "# Height\n",
    "cyl_height     = 0 * u.cm  # Replace this with your measurement\n",
    "cyl_height_unc = 0 * u.cm  # Calculate this by hand or use the function above to replace the 0 cm\n",
    "print(\n",
    "    'Cylinder Height:         ' +\n",
    "    lab_format(cyl_height, cyl_height_unc)\n",
    ")\n",
    "\n",
    "# Outer Diameter\n",
    "cyl_diam_out     = 0 * u.cm  # Replace this with your measurement\n",
    "cyl_diam_out_unc = 0 * u.cm  # Calculate this by hand or use the function above to replace the 0 cm\n",
    "print(\n",
    "    'Cylinder Outer Diameter: ' +\n",
    "    lab_format(cyl_diam_out, cyl_diam_out_unc)\n",
    ")\n",
    "\n",
    "# Inner Diameter\n",
    "cyl_diam_in     = 0 * u.cm  # Replace this with your measurement\n",
    "cyl_diam_in_unc = 0 * u.cm  # Calculate this by hand or use the function above to replace the 0 cm\n",
    "print(\n",
    "    'Cylinder Inner Diameter: ' +\n",
    "    lab_format(cyl_diam_in, cyl_diam_in_unc)\n",
    ")"
   ]
  },
  {
   "cell_type": "markdown",
   "id": "b3c7df15-84cb-4eae-b1d1-4e4bbec87394",
   "metadata": {},
   "source": [
    "### Number 5\n",
    "\n",
    "To calculate the correct error, we should first express the volume in terms of our measurements in the simplest form possible.\n",
    "Specifically, use each measurement the fewest number of times you can, like so:\n",
    "\n",
    "$$ V =\n",
    "h(\\pi R_o^2) - h(\\pi R_i)^2 =\n",
    "h \\pi \\left( \\frac{D_o}{2} \\right)^2 - h \\pi \\left( \\frac{D_i}{2} \\right)^2 =\n",
    "\\frac{h \\pi}{4} D_o^2 - \\frac{h \\pi}{4} D_i^2 =\n",
    "\\frac{h \\pi}{4} \\left( D_o^2 - D_i^2 \\right)\n",
    "$$\n",
    "\n",
    "To get the uncertainty for $V$, we must propagate the errors in $h$, $D_o$, and $D_i$ through the order of operations suggested by the formula.\n",
    "The first thing you would do is to square $D_o$ and $D_i$, so start there.\n",
    "Print $D_o^2$ and $D_i^2$ with errors in proper lab format.\n",
    "\n",
    "Note that the square operator in python is `**`. That is `4**2` is `16`."
   ]
  },
  {
   "cell_type": "code",
   "execution_count": null,
   "id": "9c517325-58fb-432b-84c9-0ac8dbb77554",
   "metadata": {},
   "outputs": [],
   "source": [
    "# Outer Squared\n",
    "do2     = 0\n",
    "do2_unc = 0\n",
    "\n",
    "# Inner Squared\n",
    "di2     = 0\n",
    "di2_unc = 0"
   ]
  },
  {
   "cell_type": "markdown",
   "id": "e0d1a2ae-9830-4298-94db-b09fd8b8fadf",
   "metadata": {},
   "source": [
    "### Number 6\n",
    "\n",
    "Next, use the results from Number 5 (not the original measurements) to subtract $D_o^2 - D_i^2$ and print the result with error in proper form."
   ]
  },
  {
   "cell_type": "code",
   "execution_count": null,
   "id": "b8f377b4-539d-45d5-9134-70cf74c76d9c",
   "metadata": {},
   "outputs": [],
   "source": [
    "# Subtracted Squared Values\n",
    "do2_minus_di2     = 0\n",
    "do2_minus_di2_unc = 0"
   ]
  },
  {
   "cell_type": "markdown",
   "id": "80043259-8465-4b72-b1c7-604354af9014",
   "metadata": {},
   "source": [
    "### Number 7\n",
    "\n",
    "Take the answer you just got, and multiply that by $h$.\n",
    "Print the new quantity $h(D_o^2 - D_i^2)$."
   ]
  },
  {
   "cell_type": "code",
   "execution_count": null,
   "id": "bc2c0496-5132-4be0-a379-b000c99700ec",
   "metadata": {},
   "outputs": [],
   "source": [
    "# Height times subtracted squared diameters\n",
    "h_times_sq_diam     = 0\n",
    "h_times_sq_diam_unc = 0"
   ]
  },
  {
   "cell_type": "markdown",
   "id": "03a25282-a30b-4d1c-a64e-5ed7c4b63288",
   "metadata": {},
   "source": [
    "### Number 8\n",
    "\n",
    "Now to get $V$, we just multiply by $\\pi/4$.\n",
    "Print the result with proper error."
   ]
  },
  {
   "cell_type": "code",
   "execution_count": null,
   "id": "4c4b5182-3a26-47ab-9bbd-bc40cac79c7f",
   "metadata": {},
   "outputs": [],
   "source": [
    "# Volume\n",
    "volume     = 0\n",
    "volume_unc = 0"
   ]
  }
 ],
 "metadata": {
  "kernelspec": {
   "display_name": "Python [conda env:teaching]",
   "language": "python",
   "name": "conda-env-teaching-py"
  },
  "language_info": {
   "codemirror_mode": {
    "name": "ipython",
    "version": 3
   },
   "file_extension": ".py",
   "mimetype": "text/x-python",
   "name": "python",
   "nbconvert_exporter": "python",
   "pygments_lexer": "ipython3",
   "version": "3.11.3"
  }
 },
 "nbformat": 4,
 "nbformat_minor": 5
}
